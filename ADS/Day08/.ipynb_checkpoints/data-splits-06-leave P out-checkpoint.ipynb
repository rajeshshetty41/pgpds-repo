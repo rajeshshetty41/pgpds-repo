{
 "cells": [
  {
   "cell_type": "code",
   "execution_count": 1,
   "id": "6e9f1dcd-8114-4915-beb1-73ad9d554ef5",
   "metadata": {},
   "outputs": [],
   "source": [
    "import numpy as np\n",
    "from sklearn.model_selection import LeavePOut"
   ]
  },
  {
   "cell_type": "code",
   "execution_count": 2,
   "id": "b6478660-9697-47db-b310-306e90f6e060",
   "metadata": {},
   "outputs": [],
   "source": [
    "# Generating dummy data\n",
    "np.random.seed(42)"
   ]
  },
  {
   "cell_type": "code",
   "execution_count": 3,
   "id": "193fed8e-c2eb-4f56-8731-e5c59ddcc8cc",
   "metadata": {},
   "outputs": [],
   "source": [
    "# Two predictor columns\n",
    "predictor1 = np.random.rand(20)\n",
    "predictor2 = np.random.rand(20)"
   ]
  },
  {
   "cell_type": "code",
   "execution_count": 4,
   "id": "5207d14c-0f2a-4da5-8ae5-a58212d2a273",
   "metadata": {},
   "outputs": [],
   "source": [
    "# Binary target column\n",
    "target = np.random.randint(2, size=20)"
   ]
  },
  {
   "cell_type": "code",
   "execution_count": 5,
   "id": "99f583f2-6fcd-4e46-ac74-3c5b9a5db63c",
   "metadata": {},
   "outputs": [],
   "source": [
    "# Combine predictors into a feature matrix\n",
    "X = np.column_stack((predictor1, predictor2))"
   ]
  },
  {
   "cell_type": "code",
   "execution_count": 6,
   "id": "9579b5c2-9a96-41f3-a9e1-a898afa61629",
   "metadata": {},
   "outputs": [],
   "source": [
    "# Specify the value for P (number of samples to leave out)\n",
    "P = 1  # Change this to 2 or 3 as needed"
   ]
  },
  {
   "cell_type": "code",
   "execution_count": 10,
   "id": "5d8d843b-2f94-4d55-9d09-7df5e6706f57",
   "metadata": {},
   "outputs": [],
   "source": [
    "# Perform Leave-P-Out Cross-Validation with the first 3 splits\n",
    "lpo = LeavePOut(p=P)"
   ]
  },
  {
   "cell_type": "code",
   "execution_count": 11,
   "id": "e102dcb1-2b34-4d26-aa0a-0c3db63628a9",
   "metadata": {},
   "outputs": [],
   "source": [
    "# Counter to track the number of splits\n",
    "split_count = 0"
   ]
  },
  {
   "cell_type": "code",
   "execution_count": 12,
   "id": "02514209-4379-4075-908e-0dd2b4145815",
   "metadata": {},
   "outputs": [
    {
     "name": "stdout",
     "output_type": "stream",
     "text": [
      "Split 1 - Train indices: [ 1  2  3  4  5  6  7  8  9 10 11 12 13 14 15 16 17 18 19], Test index: [0]\n",
      "X_train: [[0.95071431 0.13949386]\n",
      " [0.73199394 0.29214465]\n",
      " [0.59865848 0.36636184]\n",
      " [0.15601864 0.45606998]\n",
      " [0.15599452 0.78517596]\n",
      " [0.05808361 0.19967378]\n",
      " [0.86617615 0.51423444]\n",
      " [0.60111501 0.59241457]\n",
      " [0.70807258 0.04645041]\n",
      " [0.02058449 0.60754485]\n",
      " [0.96990985 0.17052412]\n",
      " [0.83244264 0.06505159]\n",
      " [0.21233911 0.94888554]\n",
      " [0.18182497 0.96563203]\n",
      " [0.18340451 0.80839735]\n",
      " [0.30424224 0.30461377]\n",
      " [0.52475643 0.09767211]\n",
      " [0.43194502 0.68423303]\n",
      " [0.29122914 0.44015249]], X_test: [[0.37454012 0.61185289]]\n",
      "y_train: [1 0 1 0 0 1 0 1 1 1 1 1 1 1 1 1 1 1 0], y_test: [0]\n",
      "------------------------------\n",
      "Split 2 - Train indices: [ 0  2  3  4  5  6  7  8  9 10 11 12 13 14 15 16 17 18 19], Test index: [1]\n",
      "X_train: [[0.37454012 0.61185289]\n",
      " [0.73199394 0.29214465]\n",
      " [0.59865848 0.36636184]\n",
      " [0.15601864 0.45606998]\n",
      " [0.15599452 0.78517596]\n",
      " [0.05808361 0.19967378]\n",
      " [0.86617615 0.51423444]\n",
      " [0.60111501 0.59241457]\n",
      " [0.70807258 0.04645041]\n",
      " [0.02058449 0.60754485]\n",
      " [0.96990985 0.17052412]\n",
      " [0.83244264 0.06505159]\n",
      " [0.21233911 0.94888554]\n",
      " [0.18182497 0.96563203]\n",
      " [0.18340451 0.80839735]\n",
      " [0.30424224 0.30461377]\n",
      " [0.52475643 0.09767211]\n",
      " [0.43194502 0.68423303]\n",
      " [0.29122914 0.44015249]], X_test: [[0.95071431 0.13949386]]\n",
      "y_train: [0 0 1 0 0 1 0 1 1 1 1 1 1 1 1 1 1 1 0], y_test: [1]\n",
      "------------------------------\n",
      "Split 3 - Train indices: [ 0  1  3  4  5  6  7  8  9 10 11 12 13 14 15 16 17 18 19], Test index: [2]\n",
      "X_train: [[0.37454012 0.61185289]\n",
      " [0.95071431 0.13949386]\n",
      " [0.59865848 0.36636184]\n",
      " [0.15601864 0.45606998]\n",
      " [0.15599452 0.78517596]\n",
      " [0.05808361 0.19967378]\n",
      " [0.86617615 0.51423444]\n",
      " [0.60111501 0.59241457]\n",
      " [0.70807258 0.04645041]\n",
      " [0.02058449 0.60754485]\n",
      " [0.96990985 0.17052412]\n",
      " [0.83244264 0.06505159]\n",
      " [0.21233911 0.94888554]\n",
      " [0.18182497 0.96563203]\n",
      " [0.18340451 0.80839735]\n",
      " [0.30424224 0.30461377]\n",
      " [0.52475643 0.09767211]\n",
      " [0.43194502 0.68423303]\n",
      " [0.29122914 0.44015249]], X_test: [[0.73199394 0.29214465]]\n",
      "y_train: [0 1 1 0 0 1 0 1 1 1 1 1 1 1 1 1 1 1 0], y_test: [0]\n",
      "------------------------------\n"
     ]
    }
   ],
   "source": [
    "# Print train-test splits for the first 3 iterations\n",
    "for train_index, test_index in lpo.split(X):\n",
    "    X_train, X_test = X[train_index], X[test_index]\n",
    "    y_train, y_test = target[train_index], target[test_index]\n",
    "\n",
    "    print(f\"Split {split_count + 1} - Train indices: {train_index}, Test index: {test_index}\")\n",
    "    print(f\"X_train: {X_train}, X_test: {X_test}\")\n",
    "    print(f\"y_train: {y_train}, y_test: {y_test}\")\n",
    "    print(\"-\" * 30)\n",
    "\n",
    "    split_count += 1\n",
    "    if split_count == 3:\n",
    "        break"
   ]
  },
  {
   "cell_type": "code",
   "execution_count": null,
   "id": "5e4c756e-4502-450f-9e2a-22ce4219566b",
   "metadata": {},
   "outputs": [],
   "source": []
  }
 ],
 "metadata": {
  "kernelspec": {
   "display_name": "Python 3 (ipykernel)",
   "language": "python",
   "name": "python3"
  },
  "language_info": {
   "codemirror_mode": {
    "name": "ipython",
    "version": 3
   },
   "file_extension": ".py",
   "mimetype": "text/x-python",
   "name": "python",
   "nbconvert_exporter": "python",
   "pygments_lexer": "ipython3",
   "version": "3.9.13"
  }
 },
 "nbformat": 4,
 "nbformat_minor": 5
}
