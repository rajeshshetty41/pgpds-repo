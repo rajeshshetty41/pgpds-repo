{
 "cells": [
  {
   "cell_type": "code",
   "execution_count": 1,
   "id": "5e5349d2-c495-413c-bd17-5a2a1477d908",
   "metadata": {},
   "outputs": [],
   "source": [
    "import numpy as np\n",
    "from sklearn.model_selection import LeaveOneOut"
   ]
  },
  {
   "cell_type": "code",
   "execution_count": 2,
   "id": "5a034841-f5aa-43d3-9565-f5ef9ce86d97",
   "metadata": {},
   "outputs": [],
   "source": [
    "# Generating dummy data\n",
    "np.random.seed(42)"
   ]
  },
  {
   "cell_type": "code",
   "execution_count": 3,
   "id": "a3ec1e2a-cca7-42e6-a43b-5c7666105cf2",
   "metadata": {},
   "outputs": [],
   "source": [
    "# Two predictor columns\n",
    "predictor1 = np.random.rand(20)\n",
    "predictor2 = np.random.rand(20)"
   ]
  },
  {
   "cell_type": "code",
   "execution_count": 4,
   "id": "979d8001-8a42-45b6-8d4b-e2b16bcd916c",
   "metadata": {},
   "outputs": [],
   "source": [
    "# Binary target column\n",
    "target = np.random.randint(2, size=20)"
   ]
  },
  {
   "cell_type": "code",
   "execution_count": 5,
   "id": "40476c3e-5ccf-4e62-8d87-8cea57b6d63d",
   "metadata": {},
   "outputs": [],
   "source": [
    "# Combine predictors into a feature matrix\n",
    "X = np.column_stack((predictor1, predictor2))"
   ]
  },
  {
   "cell_type": "code",
   "execution_count": 6,
   "id": "18362c9c-2de8-478c-85bd-2507343fec1d",
   "metadata": {},
   "outputs": [
    {
     "data": {
      "text/plain": [
       "array([[0.37454012, 0.61185289],\n",
       "       [0.95071431, 0.13949386],\n",
       "       [0.73199394, 0.29214465],\n",
       "       [0.59865848, 0.36636184],\n",
       "       [0.15601864, 0.45606998],\n",
       "       [0.15599452, 0.78517596],\n",
       "       [0.05808361, 0.19967378],\n",
       "       [0.86617615, 0.51423444],\n",
       "       [0.60111501, 0.59241457],\n",
       "       [0.70807258, 0.04645041],\n",
       "       [0.02058449, 0.60754485],\n",
       "       [0.96990985, 0.17052412],\n",
       "       [0.83244264, 0.06505159],\n",
       "       [0.21233911, 0.94888554],\n",
       "       [0.18182497, 0.96563203],\n",
       "       [0.18340451, 0.80839735],\n",
       "       [0.30424224, 0.30461377],\n",
       "       [0.52475643, 0.09767211],\n",
       "       [0.43194502, 0.68423303],\n",
       "       [0.29122914, 0.44015249]])"
      ]
     },
     "execution_count": 6,
     "metadata": {},
     "output_type": "execute_result"
    }
   ],
   "source": [
    "X"
   ]
  },
  {
   "cell_type": "code",
   "execution_count": 7,
   "id": "c9f150b7-8cb2-42bf-ad06-aec43631cecd",
   "metadata": {},
   "outputs": [],
   "source": [
    "# Perform Leave-One-Out Cross-Validation\n",
    "loo = LeaveOneOut()"
   ]
  },
  {
   "cell_type": "code",
   "execution_count": 9,
   "id": "5ee3530e-3d65-413b-95d6-81087325f812",
   "metadata": {},
   "outputs": [
    {
     "name": "stdout",
     "output_type": "stream",
     "text": [
      "Train indices: [ 1  2  3  4  5  6  7  8  9 10 11 12 13 14 15 16 17 18 19], Test index: [0]\n",
      "------------------------------\n",
      "Train indices: [ 0  2  3  4  5  6  7  8  9 10 11 12 13 14 15 16 17 18 19], Test index: [1]\n",
      "------------------------------\n",
      "Train indices: [ 0  1  3  4  5  6  7  8  9 10 11 12 13 14 15 16 17 18 19], Test index: [2]\n",
      "------------------------------\n",
      "Train indices: [ 0  1  2  4  5  6  7  8  9 10 11 12 13 14 15 16 17 18 19], Test index: [3]\n",
      "------------------------------\n",
      "Train indices: [ 0  1  2  3  5  6  7  8  9 10 11 12 13 14 15 16 17 18 19], Test index: [4]\n",
      "------------------------------\n",
      "Train indices: [ 0  1  2  3  4  6  7  8  9 10 11 12 13 14 15 16 17 18 19], Test index: [5]\n",
      "------------------------------\n",
      "Train indices: [ 0  1  2  3  4  5  7  8  9 10 11 12 13 14 15 16 17 18 19], Test index: [6]\n",
      "------------------------------\n",
      "Train indices: [ 0  1  2  3  4  5  6  8  9 10 11 12 13 14 15 16 17 18 19], Test index: [7]\n",
      "------------------------------\n",
      "Train indices: [ 0  1  2  3  4  5  6  7  9 10 11 12 13 14 15 16 17 18 19], Test index: [8]\n",
      "------------------------------\n",
      "Train indices: [ 0  1  2  3  4  5  6  7  8 10 11 12 13 14 15 16 17 18 19], Test index: [9]\n",
      "------------------------------\n",
      "Train indices: [ 0  1  2  3  4  5  6  7  8  9 11 12 13 14 15 16 17 18 19], Test index: [10]\n",
      "------------------------------\n",
      "Train indices: [ 0  1  2  3  4  5  6  7  8  9 10 12 13 14 15 16 17 18 19], Test index: [11]\n",
      "------------------------------\n",
      "Train indices: [ 0  1  2  3  4  5  6  7  8  9 10 11 13 14 15 16 17 18 19], Test index: [12]\n",
      "------------------------------\n",
      "Train indices: [ 0  1  2  3  4  5  6  7  8  9 10 11 12 14 15 16 17 18 19], Test index: [13]\n",
      "------------------------------\n",
      "Train indices: [ 0  1  2  3  4  5  6  7  8  9 10 11 12 13 15 16 17 18 19], Test index: [14]\n",
      "------------------------------\n",
      "Train indices: [ 0  1  2  3  4  5  6  7  8  9 10 11 12 13 14 16 17 18 19], Test index: [15]\n",
      "------------------------------\n",
      "Train indices: [ 0  1  2  3  4  5  6  7  8  9 10 11 12 13 14 15 17 18 19], Test index: [16]\n",
      "------------------------------\n",
      "Train indices: [ 0  1  2  3  4  5  6  7  8  9 10 11 12 13 14 15 16 18 19], Test index: [17]\n",
      "------------------------------\n",
      "Train indices: [ 0  1  2  3  4  5  6  7  8  9 10 11 12 13 14 15 16 17 19], Test index: [18]\n",
      "------------------------------\n",
      "Train indices: [ 0  1  2  3  4  5  6  7  8  9 10 11 12 13 14 15 16 17 18], Test index: [19]\n",
      "------------------------------\n"
     ]
    }
   ],
   "source": [
    "# Print train-test splits for each iteration\n",
    "for train_index, test_index in loo.split(X):\n",
    "    X_train, X_test = X[train_index], X[test_index]\n",
    "    y_train, y_test = target[train_index], target[test_index]\n",
    "\n",
    "    print(f\"Train indices: {train_index}, Test index: {test_index}\")\n",
    "    # print(f\"X_train: {X_train}, X_test: {X_test}\")\n",
    "    # print(f\"y_train: {y_train}, y_test: {y_test}\")\n",
    "    print(\"-\" * 30)"
   ]
  },
  {
   "cell_type": "code",
   "execution_count": null,
   "id": "d3eb5f49-0b9c-4193-a7f5-8b7901d9c435",
   "metadata": {},
   "outputs": [],
   "source": []
  }
 ],
 "metadata": {
  "kernelspec": {
   "display_name": "Python 3 (ipykernel)",
   "language": "python",
   "name": "python3"
  },
  "language_info": {
   "codemirror_mode": {
    "name": "ipython",
    "version": 3
   },
   "file_extension": ".py",
   "mimetype": "text/x-python",
   "name": "python",
   "nbconvert_exporter": "python",
   "pygments_lexer": "ipython3",
   "version": "3.9.13"
  }
 },
 "nbformat": 4,
 "nbformat_minor": 5
}
