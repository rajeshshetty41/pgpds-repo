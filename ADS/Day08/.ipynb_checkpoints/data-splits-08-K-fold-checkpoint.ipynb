{
 "cells": [
  {
   "cell_type": "code",
   "execution_count": 1,
   "id": "fb840acc-cb72-46f4-b6c6-c5c334dbe6e8",
   "metadata": {},
   "outputs": [],
   "source": [
    "import numpy as np\n",
    "from sklearn.model_selection import KFold"
   ]
  },
  {
   "cell_type": "code",
   "execution_count": 2,
   "id": "eab3013f-7ff3-473e-861f-9bb4a8d3b428",
   "metadata": {},
   "outputs": [],
   "source": [
    "# Generating dummy data\n",
    "np.random.seed(42)"
   ]
  },
  {
   "cell_type": "code",
   "execution_count": 3,
   "id": "2631b3c9-e0ca-44c8-bbaf-67064da7e38e",
   "metadata": {},
   "outputs": [],
   "source": [
    "# Two predictor columns\n",
    "predictor1 = np.random.rand(20)\n",
    "predictor2 = np.random.rand(20)"
   ]
  },
  {
   "cell_type": "code",
   "execution_count": 4,
   "id": "8de8eb8c-b617-4e93-ad2a-cd67b8372611",
   "metadata": {},
   "outputs": [],
   "source": [
    "# Binary target column\n",
    "target = np.random.randint(2, size=20)"
   ]
  },
  {
   "cell_type": "code",
   "execution_count": 5,
   "id": "6f89bacd-41bd-4a80-b647-1f00552bf1a9",
   "metadata": {},
   "outputs": [],
   "source": [
    "# Combine predictors into a feature matrix\n",
    "X = np.column_stack((predictor1, predictor2))"
   ]
  },
  {
   "cell_type": "code",
   "execution_count": 6,
   "id": "d3e45b54-d3e7-4944-8198-dc78c1d564fc",
   "metadata": {},
   "outputs": [],
   "source": [
    "# Specify the number of folds (K)\n",
    "n_folds = 3"
   ]
  },
  {
   "cell_type": "code",
   "execution_count": 8,
   "id": "cbb3792c-9419-4bbf-9684-0779c10e503b",
   "metadata": {},
   "outputs": [],
   "source": [
    "\n",
    "# Perform K-Fold cross-validation\n",
    "kf = KFold(n_splits=n_folds, shuffle=True, random_state=42)"
   ]
  },
  {
   "cell_type": "code",
   "execution_count": 9,
   "id": "50200fb7-528d-4897-a8c9-fc918fe24fc6",
   "metadata": {},
   "outputs": [],
   "source": [
    "# Counter to track the fold number\n",
    "fold_count = 0"
   ]
  },
  {
   "cell_type": "code",
   "execution_count": 10,
   "id": "99dee444-c6f8-4085-9e56-afbb40efc7a8",
   "metadata": {},
   "outputs": [
    {
     "name": "stdout",
     "output_type": "stream",
     "text": [
      "Fold 1 - Train set: 13 samples, Test set: 7 samples\n",
      "X_train: [[0.73199394 0.29214465]\n",
      " [0.59865848 0.36636184]\n",
      " [0.15601864 0.45606998]\n",
      " [0.05808361 0.19967378]\n",
      " [0.86617615 0.51423444]\n",
      " [0.70807258 0.04645041]\n",
      " [0.02058449 0.60754485]\n",
      " [0.83244264 0.06505159]\n",
      " [0.21233911 0.94888554]\n",
      " [0.18182497 0.96563203]\n",
      " [0.30424224 0.30461377]\n",
      " [0.43194502 0.68423303]\n",
      " [0.29122914 0.44015249]], X_test: [[0.37454012 0.61185289]\n",
      " [0.95071431 0.13949386]\n",
      " [0.15599452 0.78517596]\n",
      " [0.60111501 0.59241457]\n",
      " [0.96990985 0.17052412]\n",
      " [0.18340451 0.80839735]\n",
      " [0.52475643 0.09767211]]\n",
      "y_train: [0 1 0 1 0 1 1 1 1 1 1 1 0], y_test: [0 1 0 1 1 1 1]\n",
      "------------------------------\n",
      "Fold 2 - Train set: 13 samples, Test set: 7 samples\n",
      "X_train: [[0.37454012 0.61185289]\n",
      " [0.95071431 0.13949386]\n",
      " [0.15601864 0.45606998]\n",
      " [0.15599452 0.78517596]\n",
      " [0.05808361 0.19967378]\n",
      " [0.86617615 0.51423444]\n",
      " [0.60111501 0.59241457]\n",
      " [0.02058449 0.60754485]\n",
      " [0.96990985 0.17052412]\n",
      " [0.83244264 0.06505159]\n",
      " [0.18182497 0.96563203]\n",
      " [0.18340451 0.80839735]\n",
      " [0.52475643 0.09767211]], X_test: [[0.73199394 0.29214465]\n",
      " [0.59865848 0.36636184]\n",
      " [0.70807258 0.04645041]\n",
      " [0.21233911 0.94888554]\n",
      " [0.30424224 0.30461377]\n",
      " [0.43194502 0.68423303]\n",
      " [0.29122914 0.44015249]]\n",
      "y_train: [0 1 0 0 1 0 1 1 1 1 1 1 1], y_test: [0 1 1 1 1 1 0]\n",
      "------------------------------\n",
      "Fold 3 - Train set: 14 samples, Test set: 6 samples\n",
      "X_train: [[0.37454012 0.61185289]\n",
      " [0.95071431 0.13949386]\n",
      " [0.73199394 0.29214465]\n",
      " [0.59865848 0.36636184]\n",
      " [0.15599452 0.78517596]\n",
      " [0.60111501 0.59241457]\n",
      " [0.70807258 0.04645041]\n",
      " [0.96990985 0.17052412]\n",
      " [0.21233911 0.94888554]\n",
      " [0.18340451 0.80839735]\n",
      " [0.30424224 0.30461377]\n",
      " [0.52475643 0.09767211]\n",
      " [0.43194502 0.68423303]\n",
      " [0.29122914 0.44015249]], X_test: [[0.15601864 0.45606998]\n",
      " [0.05808361 0.19967378]\n",
      " [0.86617615 0.51423444]\n",
      " [0.02058449 0.60754485]\n",
      " [0.83244264 0.06505159]\n",
      " [0.18182497 0.96563203]]\n",
      "y_train: [0 1 0 1 0 1 1 1 1 1 1 1 1 0], y_test: [0 1 0 1 1 1]\n",
      "------------------------------\n"
     ]
    }
   ],
   "source": [
    "# Print train-test splits for each fold\n",
    "for train_index, test_index in kf.split(X):\n",
    "    X_train, X_test = X[train_index], X[test_index]\n",
    "    y_train, y_test = target[train_index], target[test_index]\n",
    "\n",
    "    print(f\"Fold {fold_count + 1} - Train set: {len(X_train)} samples, Test set: {len(X_test)} samples\")\n",
    "    print(f\"X_train: {X_train}, X_test: {X_test}\")\n",
    "    print(f\"y_train: {y_train}, y_test: {y_test}\")\n",
    "    print(\"-\" * 30)\n",
    "\n",
    "    fold_count += 1"
   ]
  },
  {
   "cell_type": "code",
   "execution_count": null,
   "id": "f195c5c0-9135-4ca5-8ead-6011f1b61319",
   "metadata": {},
   "outputs": [],
   "source": []
  }
 ],
 "metadata": {
  "kernelspec": {
   "display_name": "Python 3 (ipykernel)",
   "language": "python",
   "name": "python3"
  },
  "language_info": {
   "codemirror_mode": {
    "name": "ipython",
    "version": 3
   },
   "file_extension": ".py",
   "mimetype": "text/x-python",
   "name": "python",
   "nbconvert_exporter": "python",
   "pygments_lexer": "ipython3",
   "version": "3.9.13"
  }
 },
 "nbformat": 4,
 "nbformat_minor": 5
}
