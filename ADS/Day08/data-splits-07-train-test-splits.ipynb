{
 "cells": [
  {
   "cell_type": "code",
   "execution_count": 1,
   "id": "31b1bf76-68e8-4edc-a028-6537f2e6f1de",
   "metadata": {},
   "outputs": [],
   "source": [
    "import numpy as np\n",
    "from sklearn.model_selection import train_test_split"
   ]
  },
  {
   "cell_type": "code",
   "execution_count": 2,
   "id": "c6ad0e59-50a3-451d-b65c-03a5eab598db",
   "metadata": {},
   "outputs": [],
   "source": [
    "# Generating dummy data\n",
    "np.random.seed(42)"
   ]
  },
  {
   "cell_type": "code",
   "execution_count": 3,
   "id": "4f0448cf-fbae-4e9d-b417-f29b092500f9",
   "metadata": {},
   "outputs": [],
   "source": [
    "# Two predictor columns\n",
    "predictor1 = np.random.rand(20)\n",
    "predictor2 = np.random.rand(20)"
   ]
  },
  {
   "cell_type": "code",
   "execution_count": 4,
   "id": "c0944445-bf6f-44af-8df5-49a80ce396ee",
   "metadata": {},
   "outputs": [],
   "source": [
    "# Binary target column\n",
    "target = np.random.randint(2, size=20)"
   ]
  },
  {
   "cell_type": "code",
   "execution_count": 5,
   "id": "35d30ec0-0034-4755-bfea-ab4bf6793ad7",
   "metadata": {},
   "outputs": [],
   "source": [
    "# Combine predictors into a feature matrix\n",
    "X = np.column_stack((predictor1, predictor2))"
   ]
  },
  {
   "cell_type": "code",
   "execution_count": 7,
   "id": "9a07ce9a-1296-4353-949a-30eaf0569bd5",
   "metadata": {},
   "outputs": [
    {
     "name": "stdout",
     "output_type": "stream",
     "text": [
      "Split 1 - Train set: 14 samples, Test set: 6 samples\n",
      "X_train: [[0.05808361 0.19967378]\n",
      " [0.21233911 0.94888554]\n",
      " [0.15601864 0.45606998]\n",
      " [0.73199394 0.29214465]\n",
      " [0.15599452 0.78517596]\n",
      " [0.18182497 0.96563203]\n",
      " [0.70807258 0.04645041]\n",
      " [0.86617615 0.51423444]\n",
      " [0.30424224 0.30461377]\n",
      " [0.96990985 0.17052412]\n",
      " [0.59865848 0.36636184]\n",
      " [0.37454012 0.61185289]\n",
      " [0.18340451 0.80839735]\n",
      " [0.83244264 0.06505159]], X_test: [[0.43194502 0.68423303]\n",
      " [0.95071431 0.13949386]\n",
      " [0.29122914 0.44015249]\n",
      " [0.60111501 0.59241457]\n",
      " [0.02058449 0.60754485]\n",
      " [0.52475643 0.09767211]]\n",
      "y_train: [1 1 0 0 0 1 1 0 1 1 1 0 1 1], y_test: [1 1 0 1 1 1]\n",
      "------------------------------\n",
      "Split 2 - Train set: 14 samples, Test set: 6 samples\n",
      "X_train: [[0.15601864 0.45606998]\n",
      " [0.52475643 0.09767211]\n",
      " [0.86617615 0.51423444]\n",
      " [0.95071431 0.13949386]\n",
      " [0.21233911 0.94888554]\n",
      " [0.37454012 0.61185289]\n",
      " [0.29122914 0.44015249]\n",
      " [0.43194502 0.68423303]\n",
      " [0.70807258 0.04645041]\n",
      " [0.18340451 0.80839735]\n",
      " [0.60111501 0.59241457]\n",
      " [0.83244264 0.06505159]\n",
      " [0.96990985 0.17052412]\n",
      " [0.15599452 0.78517596]], X_test: [[0.59865848 0.36636184]\n",
      " [0.30424224 0.30461377]\n",
      " [0.05808361 0.19967378]\n",
      " [0.02058449 0.60754485]\n",
      " [0.73199394 0.29214465]\n",
      " [0.18182497 0.96563203]]\n",
      "y_train: [0 1 0 1 1 0 0 1 1 1 1 1 1 0], y_test: [1 1 1 1 0 1]\n",
      "------------------------------\n",
      "Split 3 - Train set: 14 samples, Test set: 6 samples\n",
      "X_train: [[0.59865848 0.36636184]\n",
      " [0.02058449 0.60754485]\n",
      " [0.95071431 0.13949386]\n",
      " [0.52475643 0.09767211]\n",
      " [0.86617615 0.51423444]\n",
      " [0.30424224 0.30461377]\n",
      " [0.18182497 0.96563203]\n",
      " [0.73199394 0.29214465]\n",
      " [0.96990985 0.17052412]\n",
      " [0.05808361 0.19967378]\n",
      " [0.29122914 0.44015249]\n",
      " [0.21233911 0.94888554]\n",
      " [0.18340451 0.80839735]\n",
      " [0.60111501 0.59241457]], X_test: [[0.83244264 0.06505159]\n",
      " [0.15601864 0.45606998]\n",
      " [0.43194502 0.68423303]\n",
      " [0.37454012 0.61185289]\n",
      " [0.70807258 0.04645041]\n",
      " [0.15599452 0.78517596]]\n",
      "y_train: [1 1 1 1 0 1 1 0 1 1 0 1 1 1], y_test: [1 0 1 0 1 0]\n",
      "------------------------------\n"
     ]
    }
   ],
   "source": [
    "# Perform train-test split for the first 3 iterations\n",
    "for split_count in range(3):\n",
    "    # Split the data into training and testing sets\n",
    "    X_train, X_test, y_train, y_test = train_test_split(X, target, test_size=0.3, random_state=split_count)\n",
    "\n",
    "    print(f\"Split {split_count + 1} - Train set: {len(X_train)} samples, Test set: {len(X_test)} samples\")\n",
    "    print(f\"X_train: {X_train}, X_test: {X_test}\")\n",
    "    print(f\"y_train: {y_train}, y_test: {y_test}\")\n",
    "    print(\"-\" * 30)"
   ]
  },
  {
   "cell_type": "code",
   "execution_count": null,
   "id": "9e765800-fd0f-4f29-ba5c-15763ae4300f",
   "metadata": {},
   "outputs": [],
   "source": []
  },
  {
   "cell_type": "code",
   "execution_count": null,
   "id": "d5f9abeb-b210-4791-b4cf-bd7f3a2ae9fd",
   "metadata": {},
   "outputs": [],
   "source": []
  }
 ],
 "metadata": {
  "kernelspec": {
   "display_name": "Python 3 (ipykernel)",
   "language": "python",
   "name": "python3"
  },
  "language_info": {
   "codemirror_mode": {
    "name": "ipython",
    "version": 3
   },
   "file_extension": ".py",
   "mimetype": "text/x-python",
   "name": "python",
   "nbconvert_exporter": "python",
   "pygments_lexer": "ipython3",
   "version": "3.9.13"
  }
 },
 "nbformat": 4,
 "nbformat_minor": 5
}
