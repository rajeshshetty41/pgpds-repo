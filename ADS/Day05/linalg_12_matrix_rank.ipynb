{
 "cells": [
  {
   "cell_type": "code",
   "execution_count": 1,
   "id": "44498716-39a3-4b1c-8272-d7084f82e718",
   "metadata": {},
   "outputs": [
    {
     "data": {
      "text/plain": [
       "2"
      ]
     },
     "execution_count": 1,
     "metadata": {},
     "output_type": "execute_result"
    }
   ],
   "source": [
    "## Python Example\n",
    "\n",
    "import numpy as np\n",
    "\n",
    "# Example matrix A\n",
    "A = np.array([[1, 2, 3],\n",
    "              [4, 5, 6],\n",
    "              [7, 8, 9]])\n",
    "\n",
    "# Compute the rank of matrix A\n",
    "rank_A = np.linalg.matrix_rank(A)\n",
    "\n",
    "rank_A"
   ]
  },
  {
   "cell_type": "markdown",
   "id": "f7673be3-e759-4026-80f8-80a19c89bd3b",
   "metadata": {},
   "source": [
    "# Rank of a Matrix\n",
    "\n",
    "The rank of a matrix is a fundamental concept in linear algebra that measures the maximum number of linearly independent rows or columns in the matrix. It provides crucial information about the matrix's properties, such as the solutions to a system of linear equations and the dimensionality of the vector space spanned by its rows or columns.\n",
    "\n",
    "## Definition and Intuition\n",
    "- **Rank**: The rank of a matrix \\( A \\) is the dimension of the vector space spanned by its rows (row rank) or columns (column rank). In other words, it is the maximum number of linearly independent row vectors or column vectors in the matrix.\n",
    "- **Linearly Independent**: Vectors are linearly independent if no vector in the set can be written as a linear combination of the others.\n",
    "\n",
    "## Key Properties\n",
    "- **Row Rank Equals Column Rank**: For any matrix, the row rank and column rank are always equal. This common value is simply referred to as the rank of the matrix.\n",
    "- **Full Rank**: A matrix is said to have full rank if its rank is equal to the smaller of the number of rows or columns. For an \\( m \\times n \\) matrix:\n",
    "  - If $ \\text{rank}(A) = m $, the matrix has full row rank.\n",
    "  - If $ \\text{rank}(A) = n $, the matrix has full column rank.\n",
    "\n",
    "## Example\n",
    "\n",
    "Consider the following matrix \\( A \\):\n",
    "\n",
    "$$\n",
    "A = \\begin{pmatrix}\n",
    "1 & 2 & 3 \\\\\n",
    "4 & 5 & 6 \\\\\n",
    "7 & 8 & 9\n",
    "\\end{pmatrix}$$\n",
    "\n",
    "- The rows of this matrix are not all linearly independent. In fact, the third row is a linear combination of the first two rows (specifically, the third row is the sum of the first and second rows).\n",
    "- Therefore, the rank of \\( A \\) is 2, not 3, because only two rows (or columns) are linearly independent.\n",
    "\n"
   ]
  },
  {
   "cell_type": "code",
   "execution_count": null,
   "id": "685e06f4-2054-42c0-88d4-7edb4100205b",
   "metadata": {},
   "outputs": [],
   "source": []
  }
 ],
 "metadata": {
  "kernelspec": {
   "display_name": "Python 3 (ipykernel)",
   "language": "python",
   "name": "python3"
  },
  "language_info": {
   "codemirror_mode": {
    "name": "ipython",
    "version": 3
   },
   "file_extension": ".py",
   "mimetype": "text/x-python",
   "name": "python",
   "nbconvert_exporter": "python",
   "pygments_lexer": "ipython3",
   "version": "3.9.13"
  }
 },
 "nbformat": 4,
 "nbformat_minor": 5
}
