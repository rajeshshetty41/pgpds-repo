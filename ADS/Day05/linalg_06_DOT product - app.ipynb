{
 "cells": [
  {
   "cell_type": "code",
   "execution_count": 2,
   "id": "00f0f8b3-d01f-4998-af53-cb4dc809a0fc",
   "metadata": {},
   "outputs": [],
   "source": [
    "#pip install wikipedia"
   ]
  },
  {
   "cell_type": "code",
   "execution_count": 3,
   "id": "25c2abdb-8321-4a79-bf15-93325032dd44",
   "metadata": {},
   "outputs": [],
   "source": [
    "import wikipedia"
   ]
  },
  {
   "cell_type": "code",
   "execution_count": 4,
   "id": "85cc32dc-d518-435d-bfad-486b73ee9f0b",
   "metadata": {},
   "outputs": [],
   "source": [
    "q1 = wikipedia.page('Deep Learning')\n",
    "q2 = wikipedia.page('Artifical Intelligence')\n",
    "q3 = wikipedia.page('Analytics')\n",
    "q4 = wikipedia.page('Baseball')"
   ]
  },
  {
   "cell_type": "code",
   "execution_count": 5,
   "id": "1eb602d5-534c-4f60-9de9-d8efedf4bd61",
   "metadata": {},
   "outputs": [
    {
     "name": "stdout",
     "output_type": "stream",
     "text": [
      "ML \t 8050 \n",
      "AI \t 12269 \n",
      "soccer \t 1806 \n",
      "tennis \t 10260\n"
     ]
    }
   ],
   "source": [
    "print(\"ML \\t\",     len(q1.content.split()), \"\\n\"\n",
    "      \"AI \\t\",     len(q2.content.split()), \"\\n\"\n",
    "      \"soccer \\t\", len(q3.content.split()), \"\\n\"\n",
    "      \"tennis \\t\", len(q4.content.split()))"
   ]
  },
  {
   "cell_type": "code",
   "execution_count": 6,
   "id": "27a5a928-5ce4-4556-88ac-38295b5222f3",
   "metadata": {},
   "outputs": [],
   "source": [
    "import numpy as np\n",
    "import pandas as pd"
   ]
  },
  {
   "cell_type": "code",
   "execution_count": 7,
   "id": "e867101b-dde9-4de8-9126-ec330cc7d5dd",
   "metadata": {},
   "outputs": [],
   "source": [
    "from nltk import sent_tokenize, word_tokenize\n",
    "from nltk.stem import PorterStemmer\n",
    "import re"
   ]
  },
  {
   "cell_type": "code",
   "execution_count": 8,
   "id": "50b43bda-bf44-46ea-89bd-937cad67485e",
   "metadata": {},
   "outputs": [],
   "source": [
    "from sklearn.feature_extraction.text import TfidfVectorizer\n",
    "from sklearn.feature_extraction.text import CountVectorizer"
   ]
  },
  {
   "cell_type": "code",
   "execution_count": 9,
   "id": "e63ac68c-3d0c-403c-9075-a33dc1399559",
   "metadata": {},
   "outputs": [],
   "source": [
    "import matplotlib.pyplot as plt\n",
    "from pandas.plotting import scatter_matrix\n",
    "%matplotlib inline \n",
    "\n",
    "import seaborn as sns\n",
    "sns.set(style=\"white\", color_codes=True)\n",
    "sns.set(font_scale=1.5)"
   ]
  },
  {
   "cell_type": "code",
   "execution_count": 10,
   "id": "ad7da577-7174-48e4-a533-0803c72bc2d6",
   "metadata": {},
   "outputs": [],
   "source": [
    "cv = CountVectorizer()"
   ]
  },
  {
   "cell_type": "code",
   "execution_count": 14,
   "id": "086c672a-39d0-431c-9866-18a523531e49",
   "metadata": {},
   "outputs": [],
   "source": [
    "cv = cv.fit(([q1.content, \n",
    "              q2.content, \n",
    "              q3.content, \n",
    "              q4.content]))"
   ]
  },
  {
   "cell_type": "code",
   "execution_count": 20,
   "id": "594972da-dbc4-4fe5-af5c-38fc692d21e6",
   "metadata": {},
   "outputs": [
    {
     "data": {
      "text/plain": [
       "5565"
      ]
     },
     "execution_count": 20,
     "metadata": {},
     "output_type": "execute_result"
    }
   ],
   "source": [
    "len(cv.get_feature_names_out())"
   ]
  },
  {
   "cell_type": "code",
   "execution_count": 17,
   "id": "79f2ae71-9a55-4f97-9e34-058addca9934",
   "metadata": {},
   "outputs": [],
   "source": [
    "X = cv.transform([q1.content, \n",
    "                           q2.content, \n",
    "                           q3.content, \n",
    "                           q4.content]).toarray()"
   ]
  },
  {
   "cell_type": "code",
   "execution_count": 23,
   "id": "5e1a0210-da25-4969-968a-16bc698ecb90",
   "metadata": {},
   "outputs": [
    {
     "data": {
      "text/plain": [
       "array([[5, 0, 0, ..., 1, 0, 0],\n",
       "       [1, 1, 1, ..., 0, 0, 1],\n",
       "       [0, 0, 0, ..., 0, 0, 0],\n",
       "       [4, 0, 0, ..., 0, 4, 0]], dtype=int64)"
      ]
     },
     "execution_count": 23,
     "metadata": {},
     "output_type": "execute_result"
    }
   ],
   "source": [
    "X"
   ]
  },
  {
   "cell_type": "code",
   "execution_count": 21,
   "id": "5d3af505-c5a6-4fdb-be32-ad9f37a2a8db",
   "metadata": {},
   "outputs": [
    {
     "data": {
      "text/plain": [
       "(4, 5565)"
      ]
     },
     "execution_count": 21,
     "metadata": {},
     "output_type": "execute_result"
    }
   ],
   "source": [
    "X.shape"
   ]
  },
  {
   "cell_type": "markdown",
   "id": "c4496974-dfa4-4715-85d7-7204eaf95476",
   "metadata": {},
   "source": [
    "#### measure similarities (among q1, q2, q3, q4)\n",
    "- euclidean\n",
    "- DOT product (cosine similarity)"
   ]
  },
  {
   "cell_type": "code",
   "execution_count": 22,
   "id": "7139f5ee-8ff2-481c-91e2-a13e67059248",
   "metadata": {},
   "outputs": [],
   "source": [
    "def euclidean_distance(x, y):\n",
    "    dist = np.sqrt(np.sum((x-y) ** 2))\n",
    "    \n",
    "    return dist"
   ]
  },
  {
   "cell_type": "code",
   "execution_count": 24,
   "id": "f275bc06-b474-46e0-9358-20cbc8e83d21",
   "metadata": {},
   "outputs": [
    {
     "name": "stdout",
     "output_type": "stream",
     "text": [
      "ML - AI \t 530.6524286197134 \n",
      "ML - soccer \t 545.6024193494746 \n",
      "ML - tennis \t 671.1087840283421\n"
     ]
    }
   ],
   "source": [
    "print(\"ML - AI \\t\",     euclidean_distance(X[0], X[1]), \"\\n\"\n",
    "      \"ML - soccer \\t\", euclidean_distance(X[0], X[2]), \"\\n\"\n",
    "      \"ML - tennis \\t\", euclidean_distance(X[0], X[3]))"
   ]
  },
  {
   "cell_type": "code",
   "execution_count": null,
   "id": "b703a18c-3bb4-4919-bcf2-60339c55403e",
   "metadata": {},
   "outputs": [],
   "source": []
  },
  {
   "cell_type": "code",
   "execution_count": null,
   "id": "50b7b39a-e174-4926-9470-7725fa3cda1f",
   "metadata": {},
   "outputs": [],
   "source": []
  }
 ],
 "metadata": {
  "kernelspec": {
   "display_name": "Python 3 (ipykernel)",
   "language": "python",
   "name": "python3"
  },
  "language_info": {
   "codemirror_mode": {
    "name": "ipython",
    "version": 3
   },
   "file_extension": ".py",
   "mimetype": "text/x-python",
   "name": "python",
   "nbconvert_exporter": "python",
   "pygments_lexer": "ipython3",
   "version": "3.9.13"
  }
 },
 "nbformat": 4,
 "nbformat_minor": 5
}
