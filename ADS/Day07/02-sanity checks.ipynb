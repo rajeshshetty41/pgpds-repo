{
 "cells": [
  {
   "cell_type": "code",
   "execution_count": 1,
   "id": "8addc2b9-61c3-4fdc-8fcf-cb89e2ea3dda",
   "metadata": {},
   "outputs": [],
   "source": [
    "import pandas as pd\n",
    "import numpy as np"
   ]
  },
  {
   "cell_type": "code",
   "execution_count": 2,
   "id": "d67f47fa-e9d2-4808-8eac-7c89de3ae6b9",
   "metadata": {},
   "outputs": [],
   "source": [
    "students = [('Sri',    34, 'Sydeny'),\n",
    "            ('Sai',    30, 'Delhi'),\n",
    "            ('Anand',  16, 'Singapore'),\n",
    "            ('Steve',  30, 'Delhi'),\n",
    "            ('Anand',   16, 'Singapore'),\n",
    "            ('Priti',    30, 'Mumbai'),\n",
    "            ('popcorn.ai', 40, 'Delhi'),\n",
    "            ('popcorn.ai', 30, 'Delhi'),\n",
    "            ('Anand',   16, 'Singapore'),\n",
    "            ]"
   ]
  },
  {
   "cell_type": "code",
   "execution_count": 3,
   "id": "1bf3b873-e9d5-43b0-994e-2889bc22e01e",
   "metadata": {},
   "outputs": [
    {
     "data": {
      "text/html": [
       "<div>\n",
       "<style scoped>\n",
       "    .dataframe tbody tr th:only-of-type {\n",
       "        vertical-align: middle;\n",
       "    }\n",
       "\n",
       "    .dataframe tbody tr th {\n",
       "        vertical-align: top;\n",
       "    }\n",
       "\n",
       "    .dataframe thead th {\n",
       "        text-align: right;\n",
       "    }\n",
       "</style>\n",
       "<table border=\"1\" class=\"dataframe\">\n",
       "  <thead>\n",
       "    <tr style=\"text-align: right;\">\n",
       "      <th></th>\n",
       "      <th>Name</th>\n",
       "      <th>Age</th>\n",
       "      <th>City</th>\n",
       "    </tr>\n",
       "  </thead>\n",
       "  <tbody>\n",
       "    <tr>\n",
       "      <th>0</th>\n",
       "      <td>Sri</td>\n",
       "      <td>34</td>\n",
       "      <td>Sydeny</td>\n",
       "    </tr>\n",
       "    <tr>\n",
       "      <th>1</th>\n",
       "      <td>Sai</td>\n",
       "      <td>30</td>\n",
       "      <td>Delhi</td>\n",
       "    </tr>\n",
       "    <tr>\n",
       "      <th>2</th>\n",
       "      <td>Anand</td>\n",
       "      <td>16</td>\n",
       "      <td>Singapore</td>\n",
       "    </tr>\n",
       "    <tr>\n",
       "      <th>3</th>\n",
       "      <td>Steve</td>\n",
       "      <td>30</td>\n",
       "      <td>Delhi</td>\n",
       "    </tr>\n",
       "    <tr>\n",
       "      <th>4</th>\n",
       "      <td>Anand</td>\n",
       "      <td>16</td>\n",
       "      <td>Singapore</td>\n",
       "    </tr>\n",
       "    <tr>\n",
       "      <th>5</th>\n",
       "      <td>Priti</td>\n",
       "      <td>30</td>\n",
       "      <td>Mumbai</td>\n",
       "    </tr>\n",
       "    <tr>\n",
       "      <th>6</th>\n",
       "      <td>popcorn.ai</td>\n",
       "      <td>40</td>\n",
       "      <td>Delhi</td>\n",
       "    </tr>\n",
       "    <tr>\n",
       "      <th>7</th>\n",
       "      <td>popcorn.ai</td>\n",
       "      <td>30</td>\n",
       "      <td>Delhi</td>\n",
       "    </tr>\n",
       "    <tr>\n",
       "      <th>8</th>\n",
       "      <td>Anand</td>\n",
       "      <td>16</td>\n",
       "      <td>Singapore</td>\n",
       "    </tr>\n",
       "  </tbody>\n",
       "</table>\n",
       "</div>"
      ],
      "text/plain": [
       "         Name  Age       City\n",
       "0         Sri   34     Sydeny\n",
       "1         Sai   30      Delhi\n",
       "2       Anand   16  Singapore\n",
       "3       Steve   30      Delhi\n",
       "4       Anand   16  Singapore\n",
       "5       Priti   30     Mumbai\n",
       "6  popcorn.ai   40      Delhi\n",
       "7  popcorn.ai   30      Delhi\n",
       "8       Anand   16  Singapore"
      ]
     },
     "execution_count": 3,
     "metadata": {},
     "output_type": "execute_result"
    }
   ],
   "source": [
    "# Create a DataFrame object\n",
    "df = pd.DataFrame(students, columns=['Name', 'Age', 'City'])\n",
    "df"
   ]
  },
  {
   "cell_type": "markdown",
   "id": "a92947bd-2115-4093-bb75-18bdd533ed78",
   "metadata": {},
   "source": [
    "Find Duplicate Rows based on all columns¶"
   ]
  },
  {
   "cell_type": "code",
   "execution_count": 4,
   "id": "6218ca89-1ca9-4dee-911b-f31c83be52d8",
   "metadata": {},
   "outputs": [
    {
     "data": {
      "text/plain": [
       "0    False\n",
       "1    False\n",
       "2    False\n",
       "3    False\n",
       "4     True\n",
       "5    False\n",
       "6    False\n",
       "7    False\n",
       "8     True\n",
       "dtype: bool"
      ]
     },
     "execution_count": 4,
     "metadata": {},
     "output_type": "execute_result"
    }
   ],
   "source": [
    "df.duplicated()"
   ]
  },
  {
   "cell_type": "code",
   "execution_count": 5,
   "id": "3c557af5-95d0-4bcf-8174-8c91a27e1414",
   "metadata": {},
   "outputs": [
    {
     "data": {
      "text/plain": [
       "0    False\n",
       "1    False\n",
       "2     True\n",
       "3    False\n",
       "4     True\n",
       "5    False\n",
       "6    False\n",
       "7    False\n",
       "8    False\n",
       "dtype: bool"
      ]
     },
     "execution_count": 5,
     "metadata": {},
     "output_type": "execute_result"
    }
   ],
   "source": [
    "df.duplicated(keep='last')"
   ]
  },
  {
   "cell_type": "code",
   "execution_count": 6,
   "id": "0286d19a-2d65-4854-9026-135826d35e31",
   "metadata": {},
   "outputs": [
    {
     "name": "stdout",
     "output_type": "stream",
     "text": [
      "Duplicate Rows except first occurrence based on all columns are :\n"
     ]
    },
    {
     "data": {
      "text/html": [
       "<div>\n",
       "<style scoped>\n",
       "    .dataframe tbody tr th:only-of-type {\n",
       "        vertical-align: middle;\n",
       "    }\n",
       "\n",
       "    .dataframe tbody tr th {\n",
       "        vertical-align: top;\n",
       "    }\n",
       "\n",
       "    .dataframe thead th {\n",
       "        text-align: right;\n",
       "    }\n",
       "</style>\n",
       "<table border=\"1\" class=\"dataframe\">\n",
       "  <thead>\n",
       "    <tr style=\"text-align: right;\">\n",
       "      <th></th>\n",
       "      <th>Name</th>\n",
       "      <th>Age</th>\n",
       "      <th>City</th>\n",
       "    </tr>\n",
       "  </thead>\n",
       "  <tbody>\n",
       "    <tr>\n",
       "      <th>2</th>\n",
       "      <td>Anand</td>\n",
       "      <td>16</td>\n",
       "      <td>Singapore</td>\n",
       "    </tr>\n",
       "    <tr>\n",
       "      <th>4</th>\n",
       "      <td>Anand</td>\n",
       "      <td>16</td>\n",
       "      <td>Singapore</td>\n",
       "    </tr>\n",
       "  </tbody>\n",
       "</table>\n",
       "</div>"
      ],
      "text/plain": [
       "    Name  Age       City\n",
       "2  Anand   16  Singapore\n",
       "4  Anand   16  Singapore"
      ]
     },
     "execution_count": 6,
     "metadata": {},
     "output_type": "execute_result"
    }
   ],
   "source": [
    "# Select duplicate rows except first occurrence based on all columns\n",
    "duplicateRowsDF = df[df.duplicated(keep='last')]\n",
    "\n",
    "print(\"Duplicate Rows except first occurrence based on all columns are :\")\n",
    "duplicateRowsDF"
   ]
  },
  {
   "cell_type": "code",
   "execution_count": 7,
   "id": "171b8419-dbab-4e84-9673-c7b0f7981941",
   "metadata": {},
   "outputs": [
    {
     "name": "stdout",
     "output_type": "stream",
     "text": [
      "Duplicate Rows except last occurrence based on all columns are :\n"
     ]
    },
    {
     "data": {
      "text/html": [
       "<div>\n",
       "<style scoped>\n",
       "    .dataframe tbody tr th:only-of-type {\n",
       "        vertical-align: middle;\n",
       "    }\n",
       "\n",
       "    .dataframe tbody tr th {\n",
       "        vertical-align: top;\n",
       "    }\n",
       "\n",
       "    .dataframe thead th {\n",
       "        text-align: right;\n",
       "    }\n",
       "</style>\n",
       "<table border=\"1\" class=\"dataframe\">\n",
       "  <thead>\n",
       "    <tr style=\"text-align: right;\">\n",
       "      <th></th>\n",
       "      <th>Name</th>\n",
       "      <th>Age</th>\n",
       "      <th>City</th>\n",
       "    </tr>\n",
       "  </thead>\n",
       "  <tbody>\n",
       "    <tr>\n",
       "      <th>4</th>\n",
       "      <td>Anand</td>\n",
       "      <td>16</td>\n",
       "      <td>Singapore</td>\n",
       "    </tr>\n",
       "    <tr>\n",
       "      <th>8</th>\n",
       "      <td>Anand</td>\n",
       "      <td>16</td>\n",
       "      <td>Singapore</td>\n",
       "    </tr>\n",
       "  </tbody>\n",
       "</table>\n",
       "</div>"
      ],
      "text/plain": [
       "    Name  Age       City\n",
       "4  Anand   16  Singapore\n",
       "8  Anand   16  Singapore"
      ]
     },
     "execution_count": 7,
     "metadata": {},
     "output_type": "execute_result"
    }
   ],
   "source": [
    "# Select duplicate rows except last occurrence based on all columns\n",
    "duplicateRowsDF = df[df.duplicated(keep='first')]\n",
    " \n",
    "print(\"Duplicate Rows except last occurrence based on all columns are :\")\n",
    "duplicateRowsDF"
   ]
  },
  {
   "cell_type": "markdown",
   "id": "fc6526c8-ee3b-4ca2-aa73-6d91702a7759",
   "metadata": {},
   "source": [
    "#### duplicates based on selected few cols"
   ]
  },
  {
   "cell_type": "code",
   "execution_count": 8,
   "id": "e7f3e6a5-8557-406a-99af-b5f27e1b68a0",
   "metadata": {},
   "outputs": [
    {
     "name": "stdout",
     "output_type": "stream",
     "text": [
      "Duplicate Rows based on a single column are:\n",
      "         Name  Age       City\n",
      "4       Anand   16  Singapore\n",
      "7  popcorn.ai   30      Delhi\n",
      "8       Anand   16  Singapore\n"
     ]
    }
   ],
   "source": [
    "# Select all duplicate rows based on one column\n",
    "duplicateRowsDF = df[df.duplicated(['Name'], keep='first')]\n",
    "\n",
    "print(\"Duplicate Rows based on a single column are:\", duplicateRowsDF, sep='\\n')"
   ]
  },
  {
   "cell_type": "code",
   "execution_count": 9,
   "id": "b3a77f8f-12cd-423d-9a40-7d557848d82e",
   "metadata": {},
   "outputs": [
    {
     "name": "stdout",
     "output_type": "stream",
     "text": [
      "Duplicate Rows based on 2 columns are:\n",
      "         Name  Age       City\n",
      "3       Steve   30      Delhi\n",
      "4       Anand   16  Singapore\n",
      "7  popcorn.ai   30      Delhi\n",
      "8       Anand   16  Singapore\n"
     ]
    }
   ],
   "source": [
    "# Select all duplicate rows based on multiple column names in list\n",
    "duplicateRowsDF = df[df.duplicated(['Age', 'City'], keep='first')]\n",
    " \n",
    "print(\"Duplicate Rows based on 2 columns are:\", duplicateRowsDF, sep='\\n')"
   ]
  },
  {
   "cell_type": "markdown",
   "id": "2ae23804-7b04-4c8f-b3e5-09e4df75c29b",
   "metadata": {},
   "source": [
    "Qs : would we use PANDAS for handling duplicates? Or we do this at the source (ET part)"
   ]
  },
  {
   "cell_type": "markdown",
   "id": "4e8be1ce-3908-41b8-a283-ecb40bd833c6",
   "metadata": {},
   "source": [
    "#### Best Practices for Handling Duplicates in Datasets (AI/ML)\n",
    "\n",
    "1. **Identify Duplicates**\n",
    "   - Use methods like `DataFrame.duplicated()` in Pandas to identify duplicate rows.\n",
    "\n",
    "   - Consider duplicates across `all columns` or `specific subsets` depending on the context.\n",
    "\n",
    "2. **Understand the Cause of Duplicates**\n",
    "   - Analyze why duplicates exist: data entry errors, merging multiple datasets, etc.\n",
    "\n",
    "3. **Determine the Impact on the Model**\n",
    "   - Assess how duplicates affect model performance, e.g., biasing the model if duplicates are more frequent in certain classes.\n",
    "\n",
    "\n",
    "4. **Decide Whether to Remove or Retain Duplicates**\n",
    "   - In some cases, duplicates may be legitimate (e.g., repeated measurements) and should be retained.\n",
    "\n",
    "   - In other cases, removing duplicates may reduce noise and improve model generalization.\n",
    "\n",
    "\n",
    "5. **De-duplication Strategies**\n",
    "   - **Exact Match**: Remove exact duplicates.\n",
    "\n",
    "   - **Near Duplicates**: Consider records that are similar but not identical (e.g., spelling errors, minor differences). Use techniques like fuzzy matching.\n",
    "     \n",
    "   - **Key-based Deduplication**: Deduplicate based on specific key columns, ignoring others.\n",
    "\n",
    "6. **Handling Duplicates in Time-Series Data** IMP\n",
    "   - In time-series datasets, duplicates may occur due to sensor errors or repeated events. Decide to aggregate, average, or retain based on context.\n",
    "\n",
    "\n",
    "7. **Handling Duplicates in Text Data** IMP\n",
    "   - In NLP datasets, duplicates (e.g., repeated sentences or documents) can distort the model. Use techniques like TF-IDF to identify and remove them.\n",
    "\n",
    "8. **Evaluate Model Performance Before and After De-duplication**\n",
    "   - Compare model metrics (accuracy, F1-score, etc.) with and without duplicates to understand their impact.\n",
    "\n",
    "\n",
    "9. **Document Your Decisions**\n",
    "   - Keep a record of decisions regarding duplicates, including why certain duplicates were retained or removed, for reproducibility and transparency.\n",
    "\n",
    "10. **Consider Domain-specific Implications**\n",
    "    - Duplicates may have different meanings in different domains (e.g., customer data vs. medical records). Tailor your approach accordingly.\n",
    "\n",
    "\n",
    "\n"
   ]
  },
  {
   "cell_type": "code",
   "execution_count": null,
   "id": "37233328-bb59-4c80-a849-61663b3601dd",
   "metadata": {},
   "outputs": [],
   "source": []
  }
 ],
 "metadata": {
  "kernelspec": {
   "display_name": "Python 3 (ipykernel)",
   "language": "python",
   "name": "python3"
  },
  "language_info": {
   "codemirror_mode": {
    "name": "ipython",
    "version": 3
   },
   "file_extension": ".py",
   "mimetype": "text/x-python",
   "name": "python",
   "nbconvert_exporter": "python",
   "pygments_lexer": "ipython3",
   "version": "3.9.13"
  }
 },
 "nbformat": 4,
 "nbformat_minor": 5
}
